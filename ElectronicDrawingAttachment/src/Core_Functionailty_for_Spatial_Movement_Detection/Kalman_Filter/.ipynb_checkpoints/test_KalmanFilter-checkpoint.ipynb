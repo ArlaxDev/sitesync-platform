{
 "cells": [
  {
   "cell_type": "markdown",
   "id": "a9b6a9e9-0f5b-4d1d-a07d-8f9093df9aaf",
   "metadata": {},
   "source": [
    "Testing Kalman Filter implementation"
   ]
  },
  {
   "cell_type": "code",
   "execution_count": 1,
   "id": "cd2c70b0-1200-47ce-88ae-8fc4e7fa25b3",
   "metadata": {
    "scrolled": true
   },
   "outputs": [],
   "source": [
    "import unittest\n",
    "#import pytest\n",
    "#import ipytest\n",
    "#ipytest.autoconfig()\n",
    "#https://docs.python.org/3/library/unittest.html\n",
    "\n",
    "from Kalman_Filter import KalmanFilter"
   ]
  },
  {
   "cell_type": "code",
   "execution_count": 3,
   "id": "607627c9-00a7-4892-8dff-5eec0d338a10",
   "metadata": {},
   "outputs": [
    {
     "name": "stderr",
     "output_type": "stream",
     "text": [
      ".F\n",
      "======================================================================\n",
      "FAIL: test_predit_functionality (__main__.TestStringKalmanFilter.test_predit_functionality)\n",
      "----------------------------------------------------------------------\n",
      "Traceback (most recent call last):\n",
      "  File \"C:\\Users\\chris\\AppData\\Local\\Temp\\ipykernel_24296\\1271491409.py\", line 20, in test_predit_functionality\n",
      "    self.assertEqual(kf.mean_state_variable.shape, (2,2))\n",
      "AssertionError: Tuples differ: (2,) != (2, 2)\n",
      "\n",
      "Second tuple contains 1 additional elements.\n",
      "First extra element 1:\n",
      "2\n",
      "\n",
      "- (2,)\n",
      "+ (2, 2)\n",
      "?    ++\n",
      "\n",
      "\n",
      "----------------------------------------------------------------------\n",
      "Ran 2 tests in 0.106s\n",
      "\n",
      "FAILED (failures=1)\n"
     ]
    },
    {
     "name": "stdout",
     "output_type": "stream",
     "text": [
      "Passed\n"
     ]
    }
   ],
   "source": [
    "#kf = KalmanFilter(initial_x=0.4, initial_v=0.7)\n",
    "#print(kf.x)\n",
    "\n",
    "class TestStringKalmanFilter(unittest.TestCase):\n",
    "\n",
    "    def test_contructor_with_x_and_v(self):\n",
    "        x = 0.4\n",
    "        v = 0.7\n",
    "        kf = KalmanFilter(initial_x=x, initial_v=v, accel_variance=1.2)\n",
    "        self.assertAlmostEqual(kf.position, x)\n",
    "        self.assertAlmostEqual(kf.velocity, v)\n",
    "        print(\"Passed\")\n",
    "    \n",
    "    def test_predit_functionality(self):\n",
    "        x = 0.4\n",
    "        v = 0.7\n",
    "        kf = KalmanFilter(initial_x=x, initial_v=v, accel_variance=1.2)\n",
    "        kf.predict(0.1)   # dt = 0.1\n",
    "        # Test if the matrix dimensions (shape) is consistent after running the predict step\n",
    "        self.assertEqual(kf.mean_state_variable.shape, (2, )) # vector only has 1 dimension as a 2x1\n",
    "        self.assertEqual(kf.covariance_matrix.shape, (2, 2)) \n",
    "            \n",
    "        print(\"Predict step functionality PASSED\")\n",
    "    \n",
    "        \n",
    "\n",
    "if __name__ == '__main__':\n",
    "    unittest.main(argv=[''], exit=False)"
   ]
  },
  {
   "cell_type": "code",
   "execution_count": null,
   "id": "255467e2-49bf-4cf4-8bf9-2902eebac9ce",
   "metadata": {},
   "outputs": [],
   "source": []
  },
  {
   "cell_type": "code",
   "execution_count": null,
   "id": "63865e75-7068-46f4-af38-34fc2869842c",
   "metadata": {},
   "outputs": [],
   "source": []
  }
 ],
 "metadata": {
  "kernelspec": {
   "display_name": "Python 3 (ipykernel)",
   "language": "python",
   "name": "python3"
  },
  "language_info": {
   "codemirror_mode": {
    "name": "ipython",
    "version": 3
   },
   "file_extension": ".py",
   "mimetype": "text/x-python",
   "name": "python",
   "nbconvert_exporter": "python",
   "pygments_lexer": "ipython3",
   "version": "3.12.4"
  }
 },
 "nbformat": 4,
 "nbformat_minor": 5
}
