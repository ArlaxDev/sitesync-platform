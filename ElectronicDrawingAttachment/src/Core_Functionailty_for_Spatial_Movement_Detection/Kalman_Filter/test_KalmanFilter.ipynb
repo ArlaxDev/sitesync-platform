{
 "cells": [
  {
   "cell_type": "markdown",
   "id": "a9b6a9e9-0f5b-4d1d-a07d-8f9093df9aaf",
   "metadata": {},
   "source": [
    "Testing Kalman Filter implementation tracking an obejects position and velocity over time"
   ]
  },
  {
   "cell_type": "code",
   "execution_count": 2,
   "id": "cd2c70b0-1200-47ce-88ae-8fc4e7fa25b3",
   "metadata": {
    "scrolled": true
   },
   "outputs": [],
   "source": [
    "import unittest\n",
    "import numpy as np\n",
    "#import pytest\n",
    "#import ipytest\n",
    "#ipytest.autoconfig()\n",
    "#https://docs.python.org/3/library/unittest.html\n",
    "\n",
    "from Kalman_Filter import KalmanFilter"
   ]
  },
  {
   "cell_type": "markdown",
   "id": "22c895f0-fbae-4352-a95a-c0b3564d5e46",
   "metadata": {},
   "source": [
    "Resources:\n",
    "- https://www2.isye.gatech.edu/~yxie77/ece587/Lecture17.pdf\n",
    "-- This illustrates that Differental entropy representian a value "
   ]
  },
  {
   "cell_type": "code",
   "execution_count": 5,
   "id": "607627c9-00a7-4892-8dff-5eec0d338a10",
   "metadata": {
    "scrolled": true
   },
   "outputs": [
    {
     "name": "stderr",
     "output_type": "stream",
     "text": [
      "...\n",
      "----------------------------------------------------------------------\n",
      "Ran 3 tests in 0.070s\n",
      "\n",
      "OK\n"
     ]
    },
    {
     "name": "stdout",
     "output_type": "stream",
     "text": [
      "Passed\n",
      "[[1.  0.1]\n",
      " [0.  1. ]]\n",
      "[0.47 0.7 ]\n",
      "Predict - Correct Matrix Dimensions - PASSED\n",
      "[[1.  0.1]\n",
      " [0.  1. ]]\n",
      "[0.47 0.7 ]\n",
      "1.0 1.01203\n",
      "[[1.  0.1]\n",
      " [0.  1. ]]\n",
      "[0.54 0.7 ]\n",
      "1.01203 1.02430144\n",
      "[[1.  0.1]\n",
      " [0.  1. ]]\n",
      "[0.61 0.7 ]\n",
      "1.02430144 1.0370586400000001\n",
      "[[1.  0.1]\n",
      " [0.  1. ]]\n",
      "[0.68 0.7 ]\n",
      "1.0370586400000001 1.0505488\n",
      "[[1.  0.1]\n",
      " [0.  1. ]]\n",
      "[0.75 0.7 ]\n",
      "1.0505488 1.0650220000000001\n",
      "[[1.  0.1]\n",
      " [0.  1. ]]\n",
      "[0.82 0.7 ]\n",
      "1.0650220000000001 1.0807312000000002\n",
      "[[1.  0.1]\n",
      " [0.  1. ]]\n",
      "[0.89 0.7 ]\n",
      "1.0807312000000002 1.09793224\n",
      "[[1.  0.1]\n",
      " [0.  1. ]]\n",
      "[0.96 0.7 ]\n",
      "1.09793224 1.1168838399999996\n",
      "[[1.  0.1]\n",
      " [0.  1. ]]\n",
      "[1.03 0.7 ]\n",
      "1.1168838399999996 1.1378475999999995\n",
      "[[1.  0.1]\n",
      " [0.  1. ]]\n",
      "[1.1 0.7]\n",
      "1.1378475999999995 1.161088\n",
      "Predict - Over multiple prediction steps (time) -  Passed\n"
     ]
    }
   ],
   "source": [
    "#kf = KalmanFilter(initial_x=0.4, initial_v=0.7)\n",
    "#print(kf.x)\n",
    "\n",
    "class TestStringKalmanFilter(unittest.TestCase):\n",
    "\n",
    "    def test_contructor_with_x_and_v(self):\n",
    "        x = 0.4\n",
    "        v = 0.7\n",
    "        kf = KalmanFilter(initial_x=x, initial_v=v, accel_variance=1.2)\n",
    "        self.assertAlmostEqual(kf.position, x)\n",
    "        self.assertAlmostEqual(kf.velocity, v)\n",
    "        print(\"Passed\")\n",
    "    \n",
    "    def test_predit_functionality(self):\n",
    "        x = 0.4\n",
    "        v = 0.7\n",
    "        kf = KalmanFilter(initial_x=x, initial_v=v, accel_variance=1.2)\n",
    "        kf.predict(0.1)   # dt = 0.1\n",
    "        # Test if the matrix dimensions (shape) is consistent after running the predict step\n",
    "        self.assertEqual(kf.mean_state_variable.shape, (2, )) # vector only has 1 dimension as a 2x1\n",
    "        self.assertEqual(kf.covariance_matrix.shape, (2, 2)) \n",
    "\n",
    "        print(\"Predict - Correct Matrix Dimensions - PASSED\")\n",
    "\n",
    "    \n",
    "    def test_predit_increase_state_estimation_uncertainty(self):\n",
    "        \"\"\"\n",
    "        By integrating over time, the more we call predict, the uncertainty state estimate should reflected in the covariance matrix\n",
    "        \"\"\"\n",
    "        x = 0.4\n",
    "        v = 0.7\n",
    "        kf = KalmanFilter(initial_x=x, initial_v=v, accel_variance=1.2)\n",
    "        \n",
    "        # calling predict multiple times\n",
    "        for time_step in range(10):\n",
    "            # the differnatial entropy of a gaussian random variable is represented as determinant of the Covariance matrix\n",
    "            # since in this case the covariance matrix is the identity then the det(Cov_Matrix) = product of variance of each dimension\n",
    "            # aka variance of position * variance of speed\n",
    "            determinant_before = np.linalg.det(kf.covariance_matrix)\n",
    "            kf.predict(0.1)   # dt = 0.1 -- time step of 0.1 seconds\n",
    "            determinant_after = np.linalg.det(kf.covariance_matrix)\n",
    "            self.assertGreater(determinant_after, determinant_before)\n",
    "            print(determinant_before, determinant_after)\n",
    "\n",
    "        \n",
    "        # Test if the matrix dimensions (shape) is consistent after running the predict step\n",
    "        self.assertEqual(kf.mean_state_variable.shape, (2, )) # vector only has 1 dimension as a 2x1\n",
    "        self.assertEqual(kf.covariance_matrix.shape, (2, 2)) \n",
    "            \n",
    "        print(\"Predict - Over multiple prediction steps (time) -  Passed\")\n",
    "    \n",
    "        \n",
    "\n",
    "if __name__ == '__main__':\n",
    "    unittest.main(argv=[''], exit=False)"
   ]
  },
  {
   "cell_type": "code",
   "execution_count": null,
   "id": "255467e2-49bf-4cf4-8bf9-2902eebac9ce",
   "metadata": {},
   "outputs": [],
   "source": []
  },
  {
   "cell_type": "code",
   "execution_count": null,
   "id": "63865e75-7068-46f4-af38-34fc2869842c",
   "metadata": {},
   "outputs": [],
   "source": []
  },
  {
   "cell_type": "code",
   "execution_count": null,
   "id": "fd846bc7-23a6-4122-b8aa-1eb73a8b2bcc",
   "metadata": {},
   "outputs": [],
   "source": []
  }
 ],
 "metadata": {
  "kernelspec": {
   "display_name": "Python 3 (ipykernel)",
   "language": "python",
   "name": "python3"
  },
  "language_info": {
   "codemirror_mode": {
    "name": "ipython",
    "version": 3
   },
   "file_extension": ".py",
   "mimetype": "text/x-python",
   "name": "python",
   "nbconvert_exporter": "python",
   "pygments_lexer": "ipython3",
   "version": "3.12.4"
  }
 },
 "nbformat": 4,
 "nbformat_minor": 5
}
